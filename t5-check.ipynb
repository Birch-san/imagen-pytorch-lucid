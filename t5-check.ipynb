{
 "cells": [
  {
   "cell_type": "code",
   "execution_count": 4,
   "metadata": {},
   "outputs": [],
   "source": [
    "from transformers import T5Tokenizer\n",
    "\n",
    "small = T5Tokenizer.from_pretrained(\"google/t5-v1_1-small\")\n",
    "# xxl = T5Tokenizer.from_pretrained(\"google/t5-v1_1-xxl\")\n",
    "\n",
    "print(small.vocab_size)"
   ]
  }
 ],
 "metadata": {
  "kernelspec": {
   "display_name": "Python 3.9.12 ('venv': venv)",
   "language": "python",
   "name": "python3"
  },
  "language_info": {
   "codemirror_mode": {
    "name": "ipython",
    "version": 3
   },
   "file_extension": ".py",
   "mimetype": "text/x-python",
   "name": "python",
   "nbconvert_exporter": "python",
   "pygments_lexer": "ipython3",
   "version": "3.9.12"
  },
  "orig_nbformat": 4,
  "vscode": {
   "interpreter": {
    "hash": "6bb8bfb34db8876e317cb6587a913eaadfdfd150a69853435780aeeb67ba91b0"
   }
  }
 },
 "nbformat": 4,
 "nbformat_minor": 2
}
